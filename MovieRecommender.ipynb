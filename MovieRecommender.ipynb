{
 "cells": [
  {
   "cell_type": "code",
   "execution_count": 1,
   "metadata": {},
   "outputs": [
    {
     "name": "stderr",
     "output_type": "stream",
     "text": [
      "/home/raviteja/anaconda3/lib/python3.7/site-packages/statsmodels/tools/_testing.py:19: FutureWarning: pandas.util.testing is deprecated. Use the functions in the public API at pandas.testing instead.\n",
      "  import pandas.util.testing as tm\n"
     ]
    }
   ],
   "source": [
    "import pandas as pd\n",
    "import numpy as np\n",
    "import re\n",
    "from matplotlib import pyplot as plt\n",
    "import seaborn as sb\n",
    "import warnings\n",
    "warnings.filterwarnings('ignore')"
   ]
  },
  {
   "cell_type": "code",
   "execution_count": 2,
   "metadata": {},
   "outputs": [],
   "source": [
    "movie_data = pd.read_csv(\"IMDb dataset/movies_metadata.csv\")"
   ]
  },
  {
   "cell_type": "code",
   "execution_count": 3,
   "metadata": {},
   "outputs": [
    {
     "data": {
      "text/plain": [
       "(45485, 24)"
      ]
     },
     "execution_count": 3,
     "metadata": {},
     "output_type": "execute_result"
    }
   ],
   "source": [
    "movie_data.shape\n"
   ]
  },
  {
   "cell_type": "code",
   "execution_count": 4,
   "metadata": {},
   "outputs": [
    {
     "data": {
      "text/plain": [
       "0        [{'id': 16, 'name': 'Animation'}, {'id': 35, '...\n",
       "1        [{'id': 12, 'name': 'Adventure'}, {'id': 14, '...\n",
       "2        [{'id': 10749, 'name': 'Romance'}, {'id': 35, ...\n",
       "3        [{'id': 35, 'name': 'Comedy'}, {'id': 18, 'nam...\n",
       "4                           [{'id': 35, 'name': 'Comedy'}]\n",
       "                               ...                        \n",
       "45480                                                  NaN\n",
       "45481                                                  NaN\n",
       "45482                                                  NaN\n",
       "45483                                                  NaN\n",
       "45484                                                  NaN\n",
       "Name: genres, Length: 45485, dtype: object"
      ]
     },
     "execution_count": 4,
     "metadata": {},
     "output_type": "execute_result"
    }
   ],
   "source": [
    "movie_data.columns\n",
    "movie_data[\"genres\"]"
   ]
  },
  {
   "cell_type": "code",
   "execution_count": 5,
   "metadata": {},
   "outputs": [],
   "source": [
    "movie_genres = [\"Action\",\"Adventure\",\"Animation\",\"Biography\",\n",
    "               \"Comedy\",\"Crime\",\"Documentary\",\"Drama\",\"Family\",\"Fantasy\",\n",
    "               \"Film Noir\",\"History\",\"Horror\",\"Music\",\"Musical\",\"Mystery\",\n",
    "               \"Romance\",\"Sci-Fi\",\"Short Film\",\"Sport\",\"Superhero\",\n",
    "               \"Thriller\",\"War\",\"Western\"]\n",
    "\n",
    "def get_genre(movie):\n",
    "    if not pd.isna(movie):\n",
    "        genre = re.compile(r\".+\\'name\\'\\: \\'(\\w+)\\'\\}\")\n",
    "       \n",
    "        movie = movie.replace(\"[\",\"\").replace(\"]\",\"\")\n",
    "        movie = movie.split(\",\")\n",
    "        genre_list = []\n",
    "        for gen in movie:\n",
    "            try:\n",
    "                genre_list.append(\"\".join(genre.match(gen).groups()))\n",
    "            except:\n",
    "                continue\n",
    "\n",
    "        return \",\".join(genre_list)\n",
    "    return \"\"\n",
    "            \n",
    "    "
   ]
  },
  {
   "cell_type": "code",
   "execution_count": 6,
   "metadata": {},
   "outputs": [],
   "source": [
    "cols = [\"adult\",\"genres\",\"original_language\",\"original_title\",\n",
    "       \"overview\",\"vote_average\",\"vote_vount\"]\n",
    "\n",
    "movie_data[\"Genre\"] = movie_data[\"genres\"].apply(get_genre)"
   ]
  },
  {
   "cell_type": "code",
   "execution_count": 7,
   "metadata": {},
   "outputs": [],
   "source": [
    "drop_list = [\"belongs_to_collection\",\"homepage\",\"imdb_id\",\n",
    "             \"spoken_languages\",\"status\",\"video\",\"genres\",\n",
    "            \"poster_path\",\"production_companies\",\"production_countries\",\n",
    "             \"poster_path\"]\n",
    "\n",
    "movie_data.drop(columns=drop_list,inplace=True)"
   ]
  },
  {
   "cell_type": "code",
   "execution_count": 8,
   "metadata": {},
   "outputs": [],
   "source": [
    "\n",
    "movie_data[\"overview\"].fillna(\"No Overview\",inplace=True)\n",
    "movie_data[\"tagline\"].fillna(\"NoTagline\",inplace=True)\n",
    "movie_data[\"original_language\"].fillna(\"nolang\",inplace=True)\n",
    "\n",
    "movie_data[\"vote_average\"]=pd.to_numeric(movie_data[\"vote_average\"],\n",
    "                                        errors=\"coerce\")\n",
    "movie_data[\"popularity\"]=pd.to_numeric(movie_data[\"popularity\"],errors=\"coerce\")\n",
    "movie_data[\"vote_count\"]=pd.to_numeric(movie_data[\"vote_count\"],errors=\"coerce\")\n",
    "\n",
    "movie_data[\"popularity\"].fillna(str(movie_data[\"popularity\"].mean()),inplace=True)\n",
    "movie_data[\"vote_average\"].fillna(str(movie_data[\"vote_average\"].mean()),inplace=True)\n",
    "movie_data[\"vote_count\"].fillna(str(movie_data[\"vote_count\"].mean()),inplace=True)"
   ]
  },
  {
   "cell_type": "code",
   "execution_count": 9,
   "metadata": {},
   "outputs": [],
   "source": [
    "movie_data.loc[movie_data[\"title\"].isnull(),\"title\"] = movie_data[\"original_title\"]"
   ]
  },
  {
   "cell_type": "code",
   "execution_count": 10,
   "metadata": {},
   "outputs": [],
   "source": [
    "credits = pd.read_csv(\"IMDb dataset/credits.csv\")\n"
   ]
  },
  {
   "cell_type": "code",
   "execution_count": 11,
   "metadata": {},
   "outputs": [
    {
     "data": {
      "text/html": [
       "<div>\n",
       "<style scoped>\n",
       "    .dataframe tbody tr th:only-of-type {\n",
       "        vertical-align: middle;\n",
       "    }\n",
       "\n",
       "    .dataframe tbody tr th {\n",
       "        vertical-align: top;\n",
       "    }\n",
       "\n",
       "    .dataframe thead th {\n",
       "        text-align: right;\n",
       "    }\n",
       "</style>\n",
       "<table border=\"1\" class=\"dataframe\">\n",
       "  <thead>\n",
       "    <tr style=\"text-align: right;\">\n",
       "      <th></th>\n",
       "      <th>cast</th>\n",
       "      <th>crew</th>\n",
       "      <th>id</th>\n",
       "    </tr>\n",
       "  </thead>\n",
       "  <tbody>\n",
       "    <tr>\n",
       "      <th>0</th>\n",
       "      <td>[{'cast_id': 14, 'character': 'Woody (voice)',...</td>\n",
       "      <td>[{'credit_id': '52fe4284c3a36847f8024f49', 'de...</td>\n",
       "      <td>862</td>\n",
       "    </tr>\n",
       "    <tr>\n",
       "      <th>1</th>\n",
       "      <td>[{'cast_id': 1, 'character': 'Alan Parrish', '...</td>\n",
       "      <td>[{'credit_id': '52fe44bfc3a36847f80a7cd1', 'de...</td>\n",
       "      <td>8844</td>\n",
       "    </tr>\n",
       "    <tr>\n",
       "      <th>2</th>\n",
       "      <td>[{'cast_id': 2, 'character': 'Max Goldman', 'c...</td>\n",
       "      <td>[{'credit_id': '52fe466a9251416c75077a89', 'de...</td>\n",
       "      <td>15602</td>\n",
       "    </tr>\n",
       "    <tr>\n",
       "      <th>3</th>\n",
       "      <td>[{'cast_id': 1, 'character': \"Savannah 'Vannah...</td>\n",
       "      <td>[{'credit_id': '52fe44779251416c91011acb', 'de...</td>\n",
       "      <td>31357</td>\n",
       "    </tr>\n",
       "    <tr>\n",
       "      <th>4</th>\n",
       "      <td>[{'cast_id': 1, 'character': 'George Banks', '...</td>\n",
       "      <td>[{'credit_id': '52fe44959251416c75039ed7', 'de...</td>\n",
       "      <td>11862</td>\n",
       "    </tr>\n",
       "  </tbody>\n",
       "</table>\n",
       "</div>"
      ],
      "text/plain": [
       "                                                cast  \\\n",
       "0  [{'cast_id': 14, 'character': 'Woody (voice)',...   \n",
       "1  [{'cast_id': 1, 'character': 'Alan Parrish', '...   \n",
       "2  [{'cast_id': 2, 'character': 'Max Goldman', 'c...   \n",
       "3  [{'cast_id': 1, 'character': \"Savannah 'Vannah...   \n",
       "4  [{'cast_id': 1, 'character': 'George Banks', '...   \n",
       "\n",
       "                                                crew     id  \n",
       "0  [{'credit_id': '52fe4284c3a36847f8024f49', 'de...    862  \n",
       "1  [{'credit_id': '52fe44bfc3a36847f80a7cd1', 'de...   8844  \n",
       "2  [{'credit_id': '52fe466a9251416c75077a89', 'de...  15602  \n",
       "3  [{'credit_id': '52fe44779251416c91011acb', 'de...  31357  \n",
       "4  [{'credit_id': '52fe44959251416c75039ed7', 'de...  11862  "
      ]
     },
     "execution_count": 11,
     "metadata": {},
     "output_type": "execute_result"
    }
   ],
   "source": [
    "credits.head()"
   ]
  },
  {
   "cell_type": "code",
   "execution_count": null,
   "metadata": {},
   "outputs": [],
   "source": []
  },
  {
   "cell_type": "code",
   "execution_count": 12,
   "metadata": {},
   "outputs": [],
   "source": [
    "#finding the total number of crew involved.\n",
    "crew = re.compile(r\"(^\\{.+\\})\")\n",
    "def find_cast_count(x):\n",
    "    \n",
    "    x = x.replace(\"[\",\"\").replace(\"]\",\"\").replace(\"{\",\"|\")\n",
    "    return (x.count('|'))\n",
    "        \n",
    "        \n",
    "        \n",
    "   \n",
    "    \n",
    "\n",
    "#print(credits[\"cast\"][0])\n",
    "credits[\"cast_count\"] = credits[\"cast\"].apply(find_cast_count)"
   ]
  },
  {
   "cell_type": "code",
   "execution_count": 13,
   "metadata": {},
   "outputs": [],
   "source": [
    "keywords = pd.read_csv(\"IMDb dataset/keywords.csv\")"
   ]
  },
  {
   "cell_type": "code",
   "execution_count": 14,
   "metadata": {},
   "outputs": [],
   "source": [
    "def find_keywords_of_movie(movie):\n",
    "    movie = movie.replace(\"[\",\"\").replace(\"]\",\"\").split(\",\")\n",
    "    key_words = []\n",
    "    for i in movie:\n",
    "        if \"name\" in i:\n",
    "            key_words.append(i.split(\":\")[1].replace(\"'\",\"\").replace(\"}\",\"\"))\n",
    "    if not key_words:\n",
    "        return \"nokeywordavailable\"\n",
    "    return \",\".join(key_words)       \n",
    "    "
   ]
  },
  {
   "cell_type": "code",
   "execution_count": 15,
   "metadata": {},
   "outputs": [],
   "source": [
    "keywords[\"keywords\"]=keywords[\"keywords\"].apply(find_keywords_of_movie)"
   ]
  },
  {
   "cell_type": "code",
   "execution_count": 16,
   "metadata": {},
   "outputs": [
    {
     "data": {
      "text/plain": [
       "0         jealousy, toy, boy, friendship, friends, riva...\n",
       "1         board game, disappearance, \"based on children...\n",
       "2         fishing, best friend, duringcreditsstinger, o...\n",
       "3         based on novel, interracial relationship, sin...\n",
       "4         baby, midlife crisis, confidence, aging, daug...\n",
       "                               ...                        \n",
       "46414                                          tragic love\n",
       "46415                                  artist, play, pinoy\n",
       "46416                                   nokeywordavailable\n",
       "46417                                   nokeywordavailable\n",
       "46418                                   nokeywordavailable\n",
       "Name: keywords, Length: 46419, dtype: object"
      ]
     },
     "execution_count": 16,
     "metadata": {},
     "output_type": "execute_result"
    }
   ],
   "source": [
    "keywords[\"keywords\"]"
   ]
  },
  {
   "cell_type": "code",
   "execution_count": 17,
   "metadata": {},
   "outputs": [
    {
     "data": {
      "text/plain": [
       "Index(['adult', 'budget', 'id', 'original_language', 'original_title',\n",
       "       'overview', 'popularity', 'release_date', 'revenue', 'runtime',\n",
       "       'tagline', 'title', 'vote_average', 'vote_count', 'Genre'],\n",
       "      dtype='object')"
      ]
     },
     "execution_count": 17,
     "metadata": {},
     "output_type": "execute_result"
    }
   ],
   "source": [
    "movie_data.columns"
   ]
  },
  {
   "cell_type": "code",
   "execution_count": 18,
   "metadata": {},
   "outputs": [
    {
     "data": {
      "text/plain": [
       "adult                 21\n",
       "budget                22\n",
       "id                    22\n",
       "original_language      0\n",
       "original_title        22\n",
       "overview               0\n",
       "popularity             0\n",
       "release_date         109\n",
       "revenue               29\n",
       "runtime              294\n",
       "tagline                0\n",
       "title                 22\n",
       "vote_average           0\n",
       "vote_count             0\n",
       "Genre                  0\n",
       "dtype: int64"
      ]
     },
     "execution_count": 18,
     "metadata": {},
     "output_type": "execute_result"
    }
   ],
   "source": [
    "movie_data.isna().sum()"
   ]
  },
  {
   "cell_type": "code",
   "execution_count": 19,
   "metadata": {},
   "outputs": [
    {
     "data": {
      "text/plain": [
       "dtype('float64')"
      ]
     },
     "execution_count": 19,
     "metadata": {},
     "output_type": "execute_result"
    }
   ],
   "source": [
    "movie_data[\"revenue\"].dtype"
   ]
  },
  {
   "cell_type": "code",
   "execution_count": 20,
   "metadata": {},
   "outputs": [],
   "source": [
    "\n",
    "movie_data[\"runtime\"].fillna(\"0\",inplace=True)\n",
    "movie_data[\"runtime\"] = movie_data[\"runtime\"].astype('int32',copy=False)"
   ]
  },
  {
   "cell_type": "code",
   "execution_count": 21,
   "metadata": {},
   "outputs": [],
   "source": [
    "movie_data[\"runtime\"].fillna(movie_data[\"runtime\"].mean(),inplace=True)"
   ]
  },
  {
   "cell_type": "code",
   "execution_count": 22,
   "metadata": {},
   "outputs": [],
   "source": [
    "def get_year(year):\n",
    "    year = str(year)\n",
    "    if \"-\" in year:\n",
    "        return int(year.split(\"-\")[0])\n",
    "    else:\n",
    "        return 1888"
   ]
  },
  {
   "cell_type": "code",
   "execution_count": 23,
   "metadata": {},
   "outputs": [],
   "source": [
    "movie_data[\"release_year\"] = movie_data[\"release_date\"].apply(get_year)"
   ]
  },
  {
   "cell_type": "code",
   "execution_count": 24,
   "metadata": {},
   "outputs": [],
   "source": [
    "movie_data[\"cast_count\"] = credits[\"cast_count\"]"
   ]
  },
  {
   "cell_type": "code",
   "execution_count": 25,
   "metadata": {},
   "outputs": [],
   "source": [
    "movie_data[\"key_words\"] = keywords[\"keywords\"]"
   ]
  },
  {
   "cell_type": "code",
   "execution_count": 26,
   "metadata": {},
   "outputs": [
    {
     "data": {
      "text/html": [
       "<div>\n",
       "<style scoped>\n",
       "    .dataframe tbody tr th:only-of-type {\n",
       "        vertical-align: middle;\n",
       "    }\n",
       "\n",
       "    .dataframe tbody tr th {\n",
       "        vertical-align: top;\n",
       "    }\n",
       "\n",
       "    .dataframe thead th {\n",
       "        text-align: right;\n",
       "    }\n",
       "</style>\n",
       "<table border=\"1\" class=\"dataframe\">\n",
       "  <thead>\n",
       "    <tr style=\"text-align: right;\">\n",
       "      <th></th>\n",
       "      <th>adult</th>\n",
       "      <th>budget</th>\n",
       "      <th>id</th>\n",
       "      <th>original_language</th>\n",
       "      <th>original_title</th>\n",
       "      <th>overview</th>\n",
       "      <th>popularity</th>\n",
       "      <th>release_date</th>\n",
       "      <th>revenue</th>\n",
       "      <th>runtime</th>\n",
       "      <th>tagline</th>\n",
       "      <th>title</th>\n",
       "      <th>vote_average</th>\n",
       "      <th>vote_count</th>\n",
       "      <th>Genre</th>\n",
       "      <th>release_year</th>\n",
       "      <th>cast_count</th>\n",
       "      <th>key_words</th>\n",
       "    </tr>\n",
       "  </thead>\n",
       "  <tbody>\n",
       "    <tr>\n",
       "      <th>0</th>\n",
       "      <td>False</td>\n",
       "      <td>30000000.0</td>\n",
       "      <td>862.0</td>\n",
       "      <td>en</td>\n",
       "      <td>Toy Story</td>\n",
       "      <td>Led by Woody, Andy's toys live happily in his ...</td>\n",
       "      <td>21.9469</td>\n",
       "      <td>1995-10-30</td>\n",
       "      <td>373554033.0</td>\n",
       "      <td>81</td>\n",
       "      <td>NoTagline</td>\n",
       "      <td>Toy Story</td>\n",
       "      <td>7.7</td>\n",
       "      <td>5415</td>\n",
       "      <td>Animation,Comedy,Family</td>\n",
       "      <td>1995</td>\n",
       "      <td>13.0</td>\n",
       "      <td>jealousy, toy, boy, friendship, friends, riva...</td>\n",
       "    </tr>\n",
       "    <tr>\n",
       "      <th>1</th>\n",
       "      <td>False</td>\n",
       "      <td>65000000.0</td>\n",
       "      <td>8844.0</td>\n",
       "      <td>en</td>\n",
       "      <td>Jumanji</td>\n",
       "      <td>When siblings Judy and Peter discover an encha...</td>\n",
       "      <td>17.0155</td>\n",
       "      <td>1995-12-15</td>\n",
       "      <td>262797249.0</td>\n",
       "      <td>104</td>\n",
       "      <td>Roll the dice and unleash the excitement!</td>\n",
       "      <td>Jumanji</td>\n",
       "      <td>6.9</td>\n",
       "      <td>2413</td>\n",
       "      <td>Adventure,Fantasy,Family</td>\n",
       "      <td>1995</td>\n",
       "      <td>26.0</td>\n",
       "      <td>board game, disappearance, \"based on children...</td>\n",
       "    </tr>\n",
       "    <tr>\n",
       "      <th>2</th>\n",
       "      <td>False</td>\n",
       "      <td>0.0</td>\n",
       "      <td>15602.0</td>\n",
       "      <td>en</td>\n",
       "      <td>Grumpier Old Men</td>\n",
       "      <td>A family wedding reignites the ancient feud be...</td>\n",
       "      <td>11.7129</td>\n",
       "      <td>1995-12-22</td>\n",
       "      <td>0.0</td>\n",
       "      <td>101</td>\n",
       "      <td>Still Yelling. Still Fighting. Still Ready for...</td>\n",
       "      <td>Grumpier Old Men</td>\n",
       "      <td>6.5</td>\n",
       "      <td>92</td>\n",
       "      <td>Romance,Comedy</td>\n",
       "      <td>1995</td>\n",
       "      <td>7.0</td>\n",
       "      <td>fishing, best friend, duringcreditsstinger, o...</td>\n",
       "    </tr>\n",
       "    <tr>\n",
       "      <th>3</th>\n",
       "      <td>False</td>\n",
       "      <td>16000000.0</td>\n",
       "      <td>31357.0</td>\n",
       "      <td>en</td>\n",
       "      <td>Waiting to Exhale</td>\n",
       "      <td>Cheated on, mistreated and stepped on, the wom...</td>\n",
       "      <td>3.85949</td>\n",
       "      <td>1995-12-22</td>\n",
       "      <td>81452156.0</td>\n",
       "      <td>127</td>\n",
       "      <td>Friends are the people who let you be yourself...</td>\n",
       "      <td>Waiting to Exhale</td>\n",
       "      <td>6.1</td>\n",
       "      <td>34</td>\n",
       "      <td>Comedy,Drama,Romance</td>\n",
       "      <td>1995</td>\n",
       "      <td>10.0</td>\n",
       "      <td>based on novel, interracial relationship, sin...</td>\n",
       "    </tr>\n",
       "    <tr>\n",
       "      <th>4</th>\n",
       "      <td>False</td>\n",
       "      <td>0.0</td>\n",
       "      <td>11862.0</td>\n",
       "      <td>en</td>\n",
       "      <td>Father of the Bride Part II</td>\n",
       "      <td>Just when George Banks has recovered from his ...</td>\n",
       "      <td>8.38752</td>\n",
       "      <td>1995-02-10</td>\n",
       "      <td>76578911.0</td>\n",
       "      <td>106</td>\n",
       "      <td>Just When His World Is Back To Normal... He's ...</td>\n",
       "      <td>Father of the Bride Part II</td>\n",
       "      <td>5.7</td>\n",
       "      <td>173</td>\n",
       "      <td>Comedy</td>\n",
       "      <td>1995</td>\n",
       "      <td>12.0</td>\n",
       "      <td>baby, midlife crisis, confidence, aging, daug...</td>\n",
       "    </tr>\n",
       "  </tbody>\n",
       "</table>\n",
       "</div>"
      ],
      "text/plain": [
       "   adult      budget       id original_language               original_title  \\\n",
       "0  False  30000000.0    862.0                en                    Toy Story   \n",
       "1  False  65000000.0   8844.0                en                      Jumanji   \n",
       "2  False         0.0  15602.0                en             Grumpier Old Men   \n",
       "3  False  16000000.0  31357.0                en            Waiting to Exhale   \n",
       "4  False         0.0  11862.0                en  Father of the Bride Part II   \n",
       "\n",
       "                                            overview popularity release_date  \\\n",
       "0  Led by Woody, Andy's toys live happily in his ...    21.9469   1995-10-30   \n",
       "1  When siblings Judy and Peter discover an encha...    17.0155   1995-12-15   \n",
       "2  A family wedding reignites the ancient feud be...    11.7129   1995-12-22   \n",
       "3  Cheated on, mistreated and stepped on, the wom...    3.85949   1995-12-22   \n",
       "4  Just when George Banks has recovered from his ...    8.38752   1995-02-10   \n",
       "\n",
       "       revenue  runtime                                            tagline  \\\n",
       "0  373554033.0       81                                          NoTagline   \n",
       "1  262797249.0      104          Roll the dice and unleash the excitement!   \n",
       "2          0.0      101  Still Yelling. Still Fighting. Still Ready for...   \n",
       "3   81452156.0      127  Friends are the people who let you be yourself...   \n",
       "4   76578911.0      106  Just When His World Is Back To Normal... He's ...   \n",
       "\n",
       "                         title vote_average vote_count  \\\n",
       "0                    Toy Story          7.7       5415   \n",
       "1                      Jumanji          6.9       2413   \n",
       "2             Grumpier Old Men          6.5         92   \n",
       "3            Waiting to Exhale          6.1         34   \n",
       "4  Father of the Bride Part II          5.7        173   \n",
       "\n",
       "                      Genre  release_year  cast_count  \\\n",
       "0   Animation,Comedy,Family          1995        13.0   \n",
       "1  Adventure,Fantasy,Family          1995        26.0   \n",
       "2            Romance,Comedy          1995         7.0   \n",
       "3      Comedy,Drama,Romance          1995        10.0   \n",
       "4                    Comedy          1995        12.0   \n",
       "\n",
       "                                           key_words  \n",
       "0   jealousy, toy, boy, friendship, friends, riva...  \n",
       "1   board game, disappearance, \"based on children...  \n",
       "2   fishing, best friend, duringcreditsstinger, o...  \n",
       "3   based on novel, interracial relationship, sin...  \n",
       "4   baby, midlife crisis, confidence, aging, daug...  "
      ]
     },
     "execution_count": 26,
     "metadata": {},
     "output_type": "execute_result"
    }
   ],
   "source": [
    "movie_data.head()"
   ]
  },
  {
   "cell_type": "code",
   "execution_count": 27,
   "metadata": {},
   "outputs": [
    {
     "data": {
      "text/plain": [
       "'SydneyPollack'"
      ]
     },
     "execution_count": 27,
     "metadata": {},
     "output_type": "execute_result"
    }
   ],
   "source": [
    "def get_director(movie):\n",
    "    #\\s\\'job\\':\\s'Director\\',\\s'name':\\s'(\\w+\\s*\\w+)\n",
    "    direct = re.compile(r\"\\s\\'job\\':\\s'Director\\',\\s'name':\\s'(\\w+\\s*\\w+)\")\n",
    "    movie = movie.replace('[',\"\").replace(']',\"\").replace(\"{\",\"\").replace(\"}\",\"\")\n",
    "    directors_list = []\n",
    "    director_name = direct.findall(movie)\n",
    "    for name in director_name:\n",
    "        directors_list.append(\"\".join(name.split()))\n",
    "    if not directors_list:\n",
    "        return \"unknown\"\n",
    "    return \",\".join(directors_list)\n",
    "        \n",
    "get_director(\"[{'credit_id': '52fe44959251416c75039da9', 'department': 'Directing', 'gender': 2, 'id': 2226, 'job': 'Director', 'name': 'Sydney Pollack', 'profile_path': '/zxkoU2diKtvarV1Qk4z9He2lJj9.jpg'}, {'credit_id': '52fe44959251416c75039daf', 'department': 'Writing', 'gender': 1, 'id': 70846, 'job': 'Screenplay', 'name': 'Barbara Benedek', 'profile_path': None}, {'credit_id': '52fe44959251416c75039db5', 'department': 'Production', 'gender': 2, 'id': 2226, 'job': 'Producer', 'name': 'Sydney Pollack', 'profile_path': '/zxkoU2diKtvarV1Qk4z9He2lJj9.jpg'}, {'credit_id': '52fe44959251416c75039dbb', 'department': 'Sound', 'gender': 2, 'id': 491, 'job': 'Original Music Composer', 'name': 'John Williams', 'profile_path': '/2Ats98PB1SH2yfEPikiLdhRuXZm.jpg'}, {'credit_id': '52fe44959251416c75039dc7', 'department': 'Editing', 'gender': 2, 'id': 10640, 'job': 'Editor', 'name': 'Fredric Steinkamp', 'profile_path': None}, {'credit_id': '55a3b9c2c3a3681ce30058b3', 'department': 'Production', 'gender': 2, 'id': 2997, 'job': 'Producer', 'name': 'Scott Rudin', 'profile_path': '/zR8sdlGblto6dneAr2mckTowwEl.jpg'}, {'credit_id': '55a3ba349251412974005664', 'department': 'Production', 'gender': 2, 'id': 5490, 'job': 'Casting', 'name': 'David Rubin', 'profile_path': '/x22xlcu30x5s8jelEIkJVBeLHrn.jpg'}, {'credit_id': '569cf5c89251415e7000342f', 'department': 'Art', 'gender': 2, 'id': 1718, 'job': 'Production Design', 'name': 'Brian Morris', 'profile_path': None}, {'credit_id': '569cfb339251415e5e0033b3', 'department': 'Writing', 'gender': 2, 'id': 11056, 'job': 'Screenplay', 'name': 'David Rayfiel', 'profile_path': None}, {'credit_id': '569cf55ec3a36858e500357c', 'department': 'Costume & Make-Up', 'gender': 2, 'id': 10199, 'job': 'Makeup Artist', 'name': 'Peter Robb-King', 'profile_path': None}, {'credit_id': '569cf57c9251415e730030f4', 'department': 'Costume & Make-Up', 'gender': 0, 'id': 142152, 'job': 'Makeup Artist', 'name': 'Bernadette Mazur', 'profile_path': None}, {'credit_id': '569cf5889251415e60003401', 'department': 'Costume & Make-Up', 'gender': 0, 'id': 32489, 'job': 'Makeup Artist', 'name': 'Joseph A. Campayno', 'profile_path': None}, {'credit_id': '569cf5969251415e6700344c', 'department': 'Costume & Make-Up', 'gender': 0, 'id': 83118, 'job': 'Hairstylist', 'name': 'Lynda Gurasich', 'profile_path': None}, {'credit_id': '569cf5a49251415e67003451', 'department': 'Costume & Make-Up', 'gender': 2, 'id': 1565199, 'job': 'Hairstylist', 'name': 'Stephen G. Bishop', 'profile_path': '/5S7vryn2PQWaYGm40GDvhO8PPUm.jpg'}, {'credit_id': '569cf5ff9251415e67003464', 'department': 'Costume & Make-Up', 'gender': 2, 'id': 543194, 'job': 'Co-Costume Designer', 'name': 'Gary Jones', 'profile_path': None}, {'credit_id': '569cf6199251415e60003413', 'department': 'Costume & Make-Up', 'gender': 1, 'id': 5493, 'job': 'Costume Design', 'name': 'Ann Roth', 'profile_path': None}, {'credit_id': '569cf6bc9251415e5e00330c', 'department': 'Art', 'gender': 2, 'id': 18173, 'job': 'Set Decoration', 'name': 'George DeTitta Jr.', 'profile_path': None}, {'credit_id': '569cf757c3a36858c60038d1', 'department': 'Art', 'gender': 1, 'id': 1467272, 'job': 'Set Decoration', 'name': 'Amy Marshall', 'profile_path': None}, {'credit_id': '569cf7679251415e6a0033d0', 'department': 'Art', 'gender': 0, 'id': 1535947, 'job': 'Art Department Coordinator', 'name': 'Miriam Schapiro', 'profile_path': None}, {'credit_id': '569cf77ac3a36858c60038d8', 'department': 'Sound', 'gender': 0, 'id': 91092, 'job': 'Sound mixer', 'name': 'Danny Michael', 'profile_path': None}, {'credit_id': '569cf7959251415e70003463', 'department': 'Sound', 'gender': 2, 'id': 1387195, 'job': 'Sound Re-Recording Mixer', 'name': 'Adam Jenkins', 'profile_path': None}, {'credit_id': '569cf7adc3a36858cb003171', 'department': 'Sound', 'gender': 0, 'id': 1368864, 'job': 'Sound Re-Recording Mixer', 'name': 'Chris Jenkins', 'profile_path': None}, {'credit_id': '569cf7bbc3a36858c60038de', 'department': 'Sound', 'gender': 0, 'id': 1345595, 'job': 'Sound Re-Recording Mixer', 'name': 'Scott Millan', 'profile_path': None}, {'credit_id': '569cf7cac3a36858e50035d1', 'department': 'Sound', 'gender': 0, 'id': 1404218, 'job': 'Supervising Sound Effects Editor', 'name': 'Myron Nettinga', 'profile_path': None}, {'credit_id': '569cf7d89251415e5e00332f', 'department': 'Sound', 'gender': 2, 'id': 1565200, 'job': 'Sound Effects Editor', 'name': 'Mitch Gettleman', 'profile_path': None}, {'credit_id': '569cf7e49251415e64003f8e', 'department': 'Sound', 'gender': 0, 'id': 1565201, 'job': 'Sound Effects Editor', 'name': 'Joe Earle', 'profile_path': None}, {'credit_id': '569cf7f6c3a36858c8003271', 'department': 'Sound', 'gender': 0, 'id': 1392125, 'job': 'Supervising Sound Editor', 'name': 'J. Paul Huntsman', 'profile_path': None}, {'credit_id': '569cf8059251415e67003498', 'department': 'Sound', 'gender': 0, 'id': 91096, 'job': 'Boom Operator', 'name': 'Andrew Schmetterling', 'profile_path': None}, {'credit_id': '569cf8199251415e64003f96', 'department': 'Editing', 'gender': 0, 'id': 95836, 'job': 'Dialogue Editor', 'name': 'Adam Sawelson', 'profile_path': None}, {'credit_id': '569cf82b9251415e64003f9a', 'department': 'Editing', 'gender': 0, 'id': 1555703, 'job': 'Dialogue Editor', 'name': 'Barbara Issak', 'profile_path': None}, {'credit_id': '569cf8469251415e670034a1', 'department': 'Editing', 'gender': 0, 'id': 1399061, 'job': 'Dialogue Editor', 'name': 'Benjamin Beardwood', 'profile_path': None}, {'credit_id': '569cf8869251415e670034ab', 'department': 'Directing', 'gender': 1, 'id': 1464541, 'job': 'Script Supervisor', 'name': 'Mary A. Kelly', 'profile_path': None}, {'credit_id': '569cf8b69251415e5e003350', 'department': 'Camera', 'gender': 0, 'id': 1391583, 'job': 'Still Photographer', 'name': 'Myles Aronowitz', 'profile_path': None}, {'credit_id': '569cf8c7c3a36858cb00318e', 'department': 'Camera', 'gender': 2, 'id': 1194262, 'job': 'Still Photographer', 'name': 'Brian Hamill', 'profile_path': '/ipkdNt295kdCw1I32XGZX5rVQC3.jpg'}, {'credit_id': '569cf8de9251415e5e003357', 'department': 'Camera', 'gender': 0, 'id': 20844, 'job': 'Camera Operator', 'name': 'Giovanni Fiore Coltellacci', 'profile_path': None}, {'credit_id': '569cf8fbc3a36858ce003385', 'department': 'Camera', 'gender': 2, 'id': 15131, 'job': 'Director of Photography', 'name': 'Giuseppe Rotunno', 'profile_path': None}, {'credit_id': '569cf9afc3a36858e500360b', 'department': 'Production', 'gender': 1, 'id': 53346, 'job': 'Casting Associate', 'name': 'Kate Dowd', 'profile_path': None}, {'credit_id': '569cfa989251415e7300317d', 'department': 'Costume & Make-Up', 'gender': 0, 'id': 957570, 'job': 'Assistant Costume Designer', 'name': 'Juliet Polcsa', 'profile_path': None}, {'credit_id': '569cfac1c3a36858c80032d3', 'department': 'Costume & Make-Up', 'gender': 1, 'id': 18513, 'job': 'Assistant Costume Designer', 'name': 'Michelle Matland', 'profile_path': None}, {'credit_id': '569cfafcc3a36858c80032e1', 'department': 'Costume & Make-Up', 'gender': 1, 'id': 1177713, 'job': 'Costume Supervisor', 'name': 'Donna Maloney', 'profile_path': None}, {'credit_id': '569cfb1d9251415e6a00345a', 'department': 'Editing', 'gender': 0, 'id': 1565207, 'job': 'First Assistant Editor', 'name': 'Karl F. Steinkamp', 'profile_path': None}, {'credit_id': '596e2af0c3a3686b17005fb6', 'department': 'Production', 'gender': 1, 'id': 11058, 'job': 'Executive Producer', 'name': 'Lindsay Doran', 'profile_path': None}, {'credit_id': '596e2b3ec3a3687f7e00ef37', 'department': 'Production', 'gender': 2, 'id': 4184, 'job': 'Executive Producer', 'name': 'Ronald L. Schwary', 'profile_path': None}, {'credit_id': '596e2b72c3a3686b1700603c', 'department': 'Art', 'gender': 2, 'id': 17220, 'job': 'Art Direction', 'name': 'John Kasarda', 'profile_path': None}, {'credit_id': '596e2bb69251412aa6002d41', 'department': 'Production', 'gender': 0, 'id': 1582414, 'job': 'Production Manager', 'name': 'Jean-Pierre Avice', 'profile_path': None}, {'credit_id': '596e2bc5c3a3687feb00ea43', 'department': 'Production', 'gender': 0, 'id': 1748870, 'job': 'Production Supervisor', 'name': 'Thomas A. Imperato', 'profile_path': None}, {'credit_id': '596e2bd3c3a3686b5a005a69', 'department': 'Production', 'gender': 2, 'id': 4184, 'job': 'Production Manager', 'name': 'Ronald L. Schwary', 'profile_path': None}, {'credit_id': '596e2c08c3a3687fae00f487', 'department': 'Production', 'gender': 2, 'id': 1853722, 'job': 'Casting Assistant', 'name': 'Bill Kaufman', 'profile_path': None}, {'credit_id': '596e2c35c3a3687fae00f4cb', 'department': 'Production', 'gender': 1, 'id': 1720, 'job': 'Casting Associate', 'name': 'Ronna Kress', 'profile_path': '/8LIqLvnE7EIWHC50j0gmSO275nR.jpg'}, {'credit_id': '596e2dea9251412d8600e9e4', 'department': 'Production', 'gender': 1, 'id': 9028, 'job': 'Location Manager', 'name': 'Sandrine Ageorges', 'profile_path': None}, {'credit_id': '596e2e2f9251412d4100ea9a', 'department': 'Production', 'gender': 0, 'id': 1123059, 'job': 'Location Manager', 'name': 'Joseph E. Iberti', 'profile_path': None}, {'credit_id': '596e2e589251412a73003035', 'department': 'Production', 'gender': 0, 'id': 1853729, 'job': 'Production Coordinator', 'name': 'Joanny Carpentier', 'profile_path': None}, {'credit_id': '596e2e939251412d4100eb03', 'department': 'Production', 'gender': 1, 'id': 1002581, 'job': 'Production Coordinator', 'name': 'Katherine Kennedy', 'profile_path': None}]\")"
   ]
  },
  {
   "cell_type": "code",
   "execution_count": 28,
   "metadata": {},
   "outputs": [],
   "source": [
    "credits[\"Directors\"] = credits[\"crew\"].apply(get_director)"
   ]
  },
  {
   "cell_type": "code",
   "execution_count": 29,
   "metadata": {},
   "outputs": [],
   "source": [
    "movie_data[\"Directors\"] = credits[\"Directors\"]"
   ]
  },
  {
   "cell_type": "code",
   "execution_count": null,
   "metadata": {},
   "outputs": [],
   "source": []
  },
  {
   "cell_type": "code",
   "execution_count": 30,
   "metadata": {},
   "outputs": [
    {
     "data": {
      "text/plain": [
       "0           862\n",
       "1          8844\n",
       "2         15602\n",
       "3         31357\n",
       "4         11862\n",
       "          ...  \n",
       "45471    439050\n",
       "45472    111109\n",
       "45473     67758\n",
       "45474    227506\n",
       "45475    461257\n",
       "Name: id, Length: 45476, dtype: int64"
      ]
     },
     "execution_count": 30,
     "metadata": {},
     "output_type": "execute_result"
    }
   ],
   "source": [
    "credits[\"id\"]"
   ]
  },
  {
   "cell_type": "code",
   "execution_count": 31,
   "metadata": {},
   "outputs": [],
   "source": [
    "\n",
    "movie_data[\"vote_average\"]=movie_data[\"vote_average\"].astype(\"float\")"
   ]
  },
  {
   "cell_type": "code",
   "execution_count": 32,
   "metadata": {},
   "outputs": [
    {
     "data": {
      "image/png": "[encoded data removed]",
      "text/plain": [
       "<Figure size 432x288 with 1 Axes>"
      ]
     },
     "metadata": {
      "needs_background": "light"
     },
     "output_type": "display_data"
    }
   ],
   "source": [
    "year_count = movie_data.groupby(\"release_year\")[\"title\"].count()\n",
    "plt.plot(year_count,\"g-\");\n",
    "plt.xlabel(\"year\");\n",
    "plt.ylabel(\"count\");\n"
   ]
  },
  {
   "cell_type": "markdown",
   "metadata": {},
   "source": [
    "# We can see that  there is a sharp increase in the number of movie released in 1990s and 2000s  "
   ]
  },
  {
   "cell_type": "code",
   "execution_count": 33,
   "metadata": {},
   "outputs": [],
   "source": [
    "lang_count=movie_data[\"original_language\"].value_counts().to_dict()"
   ]
  },
  {
   "cell_type": "markdown",
   "metadata": {},
   "source": [
    "# Top 11 languages \n"
   ]
  },
  {
   "cell_type": "code",
   "execution_count": 112,
   "metadata": {},
   "outputs": [
    {
     "data": {
      "image/png": "[encoded data removed]",
      "text/plain": [
       "<Figure size 432x288 with 1 Axes>"
      ]
     },
     "metadata": {
      "needs_background": "light"
     },
     "output_type": "display_data"
    }
   ],
   "source": [
    "sb.barplot(x=list(lang_count.keys())[0:10],y=list(lang_count.values())[0:10]);"
   ]
  },
  {
   "cell_type": "code",
   "execution_count": 35,
   "metadata": {},
   "outputs": [],
   "source": [
    "movie_data[\"revenue\"].replace(\"0\",np.nan,inplace=True)\n",
    "movie_data[\"revenue\"]= movie_data[\"revenue\"].astype(\"float\")"
   ]
  },
  {
   "cell_type": "code",
   "execution_count": 36,
   "metadata": {},
   "outputs": [],
   "source": [
    "movie_data[\"budget\"].replace(\"0\",np.nan,inplace=True)\n",
    "movie_data[\"budget\"]= movie_data[\"budget\"].astype(\"float\")"
   ]
  },
  {
   "cell_type": "code",
   "execution_count": 37,
   "metadata": {},
   "outputs": [],
   "source": [
    "\n",
    "movie_data[\"return\"] = movie_data[\"revenue\"]/movie_data[\"budget\"]"
   ]
  },
  {
   "cell_type": "code",
   "execution_count": 38,
   "metadata": {},
   "outputs": [],
   "source": [
    "\n",
    "movie_data[\"vote_count\"]  = movie_data[\"vote_count\"].astype(\"float\")"
   ]
  },
  {
   "cell_type": "markdown",
   "metadata": {},
   "source": [
    "# Most acclaimed movies"
   ]
  },
  {
   "cell_type": "code",
   "execution_count": 103,
   "metadata": {},
   "outputs": [
    {
     "data": {
      "text/html": [
       "<div>\n",
       "<style scoped>\n",
       "    .dataframe tbody tr th:only-of-type {\n",
       "        vertical-align: middle;\n",
       "    }\n",
       "\n",
       "    .dataframe tbody tr th {\n",
       "        vertical-align: top;\n",
       "    }\n",
       "\n",
       "    .dataframe thead th {\n",
       "        text-align: right;\n",
       "    }\n",
       "</style>\n",
       "<table border=\"1\" class=\"dataframe\">\n",
       "  <thead>\n",
       "    <tr style=\"text-align: right;\">\n",
       "      <th></th>\n",
       "      <th>Directors</th>\n",
       "      <th>title</th>\n",
       "      <th>release_year</th>\n",
       "      <th>vote_average</th>\n",
       "      <th>return</th>\n",
       "    </tr>\n",
       "  </thead>\n",
       "  <tbody>\n",
       "    <tr>\n",
       "      <th>12481</th>\n",
       "      <td>ChristopherNolan</td>\n",
       "      <td>The Dark Knight</td>\n",
       "      <td>2008</td>\n",
       "      <td>8.3</td>\n",
       "      <td>5.430046</td>\n",
       "    </tr>\n",
       "    <tr>\n",
       "      <th>15480</th>\n",
       "      <td>ChristopherNolan</td>\n",
       "      <td>Inception</td>\n",
       "      <td>2010</td>\n",
       "      <td>8.1</td>\n",
       "      <td>5.159580</td>\n",
       "    </tr>\n",
       "    <tr>\n",
       "      <th>22878</th>\n",
       "      <td>ChristopherNolan</td>\n",
       "      <td>Interstellar</td>\n",
       "      <td>2014</td>\n",
       "      <td>8.1</td>\n",
       "      <td>4.091636</td>\n",
       "    </tr>\n",
       "    <tr>\n",
       "      <th>17818</th>\n",
       "      <td>JossWhedon</td>\n",
       "      <td>The Avengers</td>\n",
       "      <td>2012</td>\n",
       "      <td>7.4</td>\n",
       "      <td>6.907081</td>\n",
       "    </tr>\n",
       "    <tr>\n",
       "      <th>26563</th>\n",
       "      <td>SantiagoSegura</td>\n",
       "      <td>Deadpool</td>\n",
       "      <td>2016</td>\n",
       "      <td>7.4</td>\n",
       "      <td>13.501948</td>\n",
       "    </tr>\n",
       "    <tr>\n",
       "      <th>14551</th>\n",
       "      <td>JamesCameron</td>\n",
       "      <td>Avatar</td>\n",
       "      <td>2009</td>\n",
       "      <td>7.2</td>\n",
       "      <td>11.763566</td>\n",
       "    </tr>\n",
       "  </tbody>\n",
       "</table>\n",
       "</div>"
      ],
      "text/plain": [
       "              Directors            title  release_year  vote_average  \\\n",
       "12481  ChristopherNolan  The Dark Knight          2008           8.3   \n",
       "15480  ChristopherNolan        Inception          2010           8.1   \n",
       "22878  ChristopherNolan     Interstellar          2014           8.1   \n",
       "17818        JossWhedon     The Avengers          2012           7.4   \n",
       "26563    SantiagoSegura         Deadpool          2016           7.4   \n",
       "14551      JamesCameron           Avatar          2009           7.2   \n",
       "\n",
       "          return  \n",
       "12481   5.430046  \n",
       "15480   5.159580  \n",
       "22878   4.091636  \n",
       "17818   6.907081  \n",
       "26563  13.501948  \n",
       "14551  11.763566  "
      ]
     },
     "execution_count": 103,
     "metadata": {},
     "output_type": "execute_result"
    }
   ],
   "source": [
    "movie_data[movie_data[\"vote_count\"]>11000][[\"Directors\",\n",
    "                                           \"title\",\n",
    "                                           \"release_year\",\n",
    "                                           \"vote_average\",\n",
    "                                            \"return\"]].sort_values(\"vote_average\",ascending=False).head(10)"
   ]
  },
  {
   "cell_type": "code",
   "execution_count": 114,
   "metadata": {},
   "outputs": [
    {
     "data": {
      "image/png": "[encoded data removed]",
      "text/plain": [
       "<Figure size 432x288 with 1 Axes>"
      ]
     },
     "metadata": {
      "needs_background": "light"
     },
     "output_type": "display_data"
    }
   ],
   "source": [
    "year_count = movie_data.groupby(\"release_year\")[\"cast_count\"].mean()\n",
    "plt.plot(year_count,\"g-\");\n",
    "plt.xlabel(\"year\");\n",
    "plt.ylabel(\"count\");"
   ]
  },
  {
   "cell_type": "code",
   "execution_count": null,
   "metadata": {},
   "outputs": [],
   "source": []
  }
 ],
 "metadata": {
  "kernelspec": {
   "display_name": "Python 3",
   "language": "python",
   "name": "python3"
  },
  "language_info": {
   "codemirror_mode": {
    "name": "ipython",
    "version": 3
   },
   "file_extension": ".py",
   "mimetype": "text/x-python",
   "name": "python",
   "nbconvert_exporter": "python",
   "pygments_lexer": "ipython3",
   "version": "3.7.5"
  }
 },
 "nbformat": 4,
 "nbformat_minor": 2
}
